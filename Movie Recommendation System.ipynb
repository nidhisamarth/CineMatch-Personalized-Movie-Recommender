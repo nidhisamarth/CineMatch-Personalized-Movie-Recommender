{
 "cells": [
  {
   "cell_type": "code",
   "execution_count": 1,
   "id": "93a83b94",
   "metadata": {},
   "outputs": [],
   "source": [
    "import numpy as np\n",
    "import pandas as pd\n",
    "import warnings"
   ]
  },
  {
   "cell_type": "code",
   "execution_count": 2,
   "id": "7f55e0fc",
   "metadata": {},
   "outputs": [],
   "source": [
    "warnings.filterwarnings('ignore')"
   ]
  },
  {
   "cell_type": "code",
   "execution_count": 3,
   "id": "cacc85d7",
   "metadata": {},
   "outputs": [
    {
     "data": {
      "text/html": [
       "<div>\n",
       "<style scoped>\n",
       "    .dataframe tbody tr th:only-of-type {\n",
       "        vertical-align: middle;\n",
       "    }\n",
       "\n",
       "    .dataframe tbody tr th {\n",
       "        vertical-align: top;\n",
       "    }\n",
       "\n",
       "    .dataframe thead th {\n",
       "        text-align: right;\n",
       "    }\n",
       "</style>\n",
       "<table border=\"1\" class=\"dataframe\">\n",
       "  <thead>\n",
       "    <tr style=\"text-align: right;\">\n",
       "      <th></th>\n",
       "      <th>Poster_Link</th>\n",
       "      <th>Series_Title</th>\n",
       "      <th>Released_Year</th>\n",
       "      <th>Certificate</th>\n",
       "      <th>Runtime</th>\n",
       "      <th>Genre</th>\n",
       "      <th>IMDB_Rating</th>\n",
       "      <th>Overview</th>\n",
       "      <th>Meta_score</th>\n",
       "      <th>Director</th>\n",
       "      <th>Star1</th>\n",
       "      <th>Star2</th>\n",
       "      <th>Star3</th>\n",
       "      <th>Star4</th>\n",
       "      <th>No_of_Votes</th>\n",
       "      <th>Gross</th>\n",
       "    </tr>\n",
       "  </thead>\n",
       "  <tbody>\n",
       "    <tr>\n",
       "      <th>0</th>\n",
       "      <td>https://m.media-amazon.com/images/M/MV5BMDFkYT...</td>\n",
       "      <td>The Shawshank Redemption</td>\n",
       "      <td>1994</td>\n",
       "      <td>A</td>\n",
       "      <td>142 min</td>\n",
       "      <td>Drama</td>\n",
       "      <td>9.3</td>\n",
       "      <td>Two imprisoned men bond over a number of years...</td>\n",
       "      <td>80.0</td>\n",
       "      <td>Frank Darabont</td>\n",
       "      <td>Tim Robbins</td>\n",
       "      <td>Morgan Freeman</td>\n",
       "      <td>Bob Gunton</td>\n",
       "      <td>William Sadler</td>\n",
       "      <td>2343110</td>\n",
       "      <td>28,341,469</td>\n",
       "    </tr>\n",
       "  </tbody>\n",
       "</table>\n",
       "</div>"
      ],
      "text/plain": [
       "                                         Poster_Link  \\\n",
       "0  https://m.media-amazon.com/images/M/MV5BMDFkYT...   \n",
       "\n",
       "               Series_Title Released_Year Certificate  Runtime  Genre  \\\n",
       "0  The Shawshank Redemption          1994           A  142 min  Drama   \n",
       "\n",
       "   IMDB_Rating                                           Overview  Meta_score  \\\n",
       "0          9.3  Two imprisoned men bond over a number of years...        80.0   \n",
       "\n",
       "         Director        Star1           Star2       Star3           Star4  \\\n",
       "0  Frank Darabont  Tim Robbins  Morgan Freeman  Bob Gunton  William Sadler   \n",
       "\n",
       "   No_of_Votes       Gross  \n",
       "0      2343110  28,341,469  "
      ]
     },
     "execution_count": 3,
     "metadata": {},
     "output_type": "execute_result"
    }
   ],
   "source": [
    "df = pd.read_csv(r\"C:\\Users\\gargi\\OneDrive - UT Arlington\\personal\\new proj\\imdb_top_1000.csv\")\n",
    "df.head(1)"
   ]
  },
  {
   "cell_type": "code",
   "execution_count": 4,
   "id": "58c290ad",
   "metadata": {},
   "outputs": [],
   "source": [
    "movies = df[['Series_Title','Genre','Overview','Director','Star1','Star2','Star3','Star4']]"
   ]
  },
  {
   "cell_type": "code",
   "execution_count": 5,
   "id": "a9a21f43",
   "metadata": {},
   "outputs": [
    {
     "data": {
      "text/html": [
       "<div>\n",
       "<style scoped>\n",
       "    .dataframe tbody tr th:only-of-type {\n",
       "        vertical-align: middle;\n",
       "    }\n",
       "\n",
       "    .dataframe tbody tr th {\n",
       "        vertical-align: top;\n",
       "    }\n",
       "\n",
       "    .dataframe thead th {\n",
       "        text-align: right;\n",
       "    }\n",
       "</style>\n",
       "<table border=\"1\" class=\"dataframe\">\n",
       "  <thead>\n",
       "    <tr style=\"text-align: right;\">\n",
       "      <th></th>\n",
       "      <th>Series_Title</th>\n",
       "      <th>Genre</th>\n",
       "      <th>Overview</th>\n",
       "      <th>Director</th>\n",
       "      <th>Star1</th>\n",
       "      <th>Star2</th>\n",
       "      <th>Star3</th>\n",
       "      <th>Star4</th>\n",
       "    </tr>\n",
       "  </thead>\n",
       "  <tbody>\n",
       "    <tr>\n",
       "      <th>0</th>\n",
       "      <td>The Shawshank Redemption</td>\n",
       "      <td>Drama</td>\n",
       "      <td>Two imprisoned men bond over a number of years...</td>\n",
       "      <td>Frank Darabont</td>\n",
       "      <td>Tim Robbins</td>\n",
       "      <td>Morgan Freeman</td>\n",
       "      <td>Bob Gunton</td>\n",
       "      <td>William Sadler</td>\n",
       "    </tr>\n",
       "    <tr>\n",
       "      <th>1</th>\n",
       "      <td>The Godfather</td>\n",
       "      <td>Crime, Drama</td>\n",
       "      <td>An organized crime dynasty's aging patriarch t...</td>\n",
       "      <td>Francis Ford Coppola</td>\n",
       "      <td>Marlon Brando</td>\n",
       "      <td>Al Pacino</td>\n",
       "      <td>James Caan</td>\n",
       "      <td>Diane Keaton</td>\n",
       "    </tr>\n",
       "    <tr>\n",
       "      <th>2</th>\n",
       "      <td>The Dark Knight</td>\n",
       "      <td>Action, Crime, Drama</td>\n",
       "      <td>When the menace known as the Joker wreaks havo...</td>\n",
       "      <td>Christopher Nolan</td>\n",
       "      <td>Christian Bale</td>\n",
       "      <td>Heath Ledger</td>\n",
       "      <td>Aaron Eckhart</td>\n",
       "      <td>Michael Caine</td>\n",
       "    </tr>\n",
       "    <tr>\n",
       "      <th>3</th>\n",
       "      <td>The Godfather: Part II</td>\n",
       "      <td>Crime, Drama</td>\n",
       "      <td>The early life and career of Vito Corleone in ...</td>\n",
       "      <td>Francis Ford Coppola</td>\n",
       "      <td>Al Pacino</td>\n",
       "      <td>Robert De Niro</td>\n",
       "      <td>Robert Duvall</td>\n",
       "      <td>Diane Keaton</td>\n",
       "    </tr>\n",
       "    <tr>\n",
       "      <th>4</th>\n",
       "      <td>12 Angry Men</td>\n",
       "      <td>Crime, Drama</td>\n",
       "      <td>A jury holdout attempts to prevent a miscarria...</td>\n",
       "      <td>Sidney Lumet</td>\n",
       "      <td>Henry Fonda</td>\n",
       "      <td>Lee J. Cobb</td>\n",
       "      <td>Martin Balsam</td>\n",
       "      <td>John Fiedler</td>\n",
       "    </tr>\n",
       "  </tbody>\n",
       "</table>\n",
       "</div>"
      ],
      "text/plain": [
       "               Series_Title                 Genre  \\\n",
       "0  The Shawshank Redemption                 Drama   \n",
       "1             The Godfather          Crime, Drama   \n",
       "2           The Dark Knight  Action, Crime, Drama   \n",
       "3    The Godfather: Part II          Crime, Drama   \n",
       "4              12 Angry Men          Crime, Drama   \n",
       "\n",
       "                                            Overview              Director  \\\n",
       "0  Two imprisoned men bond over a number of years...        Frank Darabont   \n",
       "1  An organized crime dynasty's aging patriarch t...  Francis Ford Coppola   \n",
       "2  When the menace known as the Joker wreaks havo...     Christopher Nolan   \n",
       "3  The early life and career of Vito Corleone in ...  Francis Ford Coppola   \n",
       "4  A jury holdout attempts to prevent a miscarria...          Sidney Lumet   \n",
       "\n",
       "            Star1           Star2          Star3           Star4  \n",
       "0     Tim Robbins  Morgan Freeman     Bob Gunton  William Sadler  \n",
       "1   Marlon Brando       Al Pacino     James Caan    Diane Keaton  \n",
       "2  Christian Bale    Heath Ledger  Aaron Eckhart   Michael Caine  \n",
       "3       Al Pacino  Robert De Niro  Robert Duvall    Diane Keaton  \n",
       "4     Henry Fonda     Lee J. Cobb  Martin Balsam    John Fiedler  "
      ]
     },
     "execution_count": 5,
     "metadata": {},
     "output_type": "execute_result"
    }
   ],
   "source": [
    "movies.head()"
   ]
  },
  {
   "cell_type": "code",
   "execution_count": 6,
   "id": "14f2241f",
   "metadata": {},
   "outputs": [],
   "source": [
    "def convert_to_lower_case(col):\n",
    "    return col.str.lower()"
   ]
  },
  {
   "cell_type": "code",
   "execution_count": 7,
   "id": "ee9ebbcf",
   "metadata": {
    "scrolled": true
   },
   "outputs": [],
   "source": [
    "movies.Overview = convert_to_lower_case(movies['Overview'])\n",
    "movies.Director = convert_to_lower_case(movies['Director'])\n",
    "movies.Star1 = convert_to_lower_case(movies['Star1'])\n",
    "movies.Star2 = convert_to_lower_case(movies['Star2'])\n",
    "movies.Star3 = convert_to_lower_case(movies['Star3'])\n",
    "movies.Star4 = convert_to_lower_case(movies['Star4'])\n",
    "movies.Genre = convert_to_lower_case(movies['Genre'])"
   ]
  },
  {
   "cell_type": "code",
   "execution_count": 8,
   "id": "bca2dee1",
   "metadata": {},
   "outputs": [
    {
     "data": {
      "text/html": [
       "<div>\n",
       "<style scoped>\n",
       "    .dataframe tbody tr th:only-of-type {\n",
       "        vertical-align: middle;\n",
       "    }\n",
       "\n",
       "    .dataframe tbody tr th {\n",
       "        vertical-align: top;\n",
       "    }\n",
       "\n",
       "    .dataframe thead th {\n",
       "        text-align: right;\n",
       "    }\n",
       "</style>\n",
       "<table border=\"1\" class=\"dataframe\">\n",
       "  <thead>\n",
       "    <tr style=\"text-align: right;\">\n",
       "      <th></th>\n",
       "      <th>Series_Title</th>\n",
       "      <th>Genre</th>\n",
       "      <th>Overview</th>\n",
       "      <th>Director</th>\n",
       "      <th>Star1</th>\n",
       "      <th>Star2</th>\n",
       "      <th>Star3</th>\n",
       "      <th>Star4</th>\n",
       "    </tr>\n",
       "  </thead>\n",
       "  <tbody>\n",
       "    <tr>\n",
       "      <th>0</th>\n",
       "      <td>The Shawshank Redemption</td>\n",
       "      <td>drama</td>\n",
       "      <td>two imprisoned men bond over a number of years...</td>\n",
       "      <td>frank darabont</td>\n",
       "      <td>tim robbins</td>\n",
       "      <td>morgan freeman</td>\n",
       "      <td>bob gunton</td>\n",
       "      <td>william sadler</td>\n",
       "    </tr>\n",
       "    <tr>\n",
       "      <th>1</th>\n",
       "      <td>The Godfather</td>\n",
       "      <td>crime, drama</td>\n",
       "      <td>an organized crime dynasty's aging patriarch t...</td>\n",
       "      <td>francis ford coppola</td>\n",
       "      <td>marlon brando</td>\n",
       "      <td>al pacino</td>\n",
       "      <td>james caan</td>\n",
       "      <td>diane keaton</td>\n",
       "    </tr>\n",
       "    <tr>\n",
       "      <th>2</th>\n",
       "      <td>The Dark Knight</td>\n",
       "      <td>action, crime, drama</td>\n",
       "      <td>when the menace known as the joker wreaks havo...</td>\n",
       "      <td>christopher nolan</td>\n",
       "      <td>christian bale</td>\n",
       "      <td>heath ledger</td>\n",
       "      <td>aaron eckhart</td>\n",
       "      <td>michael caine</td>\n",
       "    </tr>\n",
       "    <tr>\n",
       "      <th>3</th>\n",
       "      <td>The Godfather: Part II</td>\n",
       "      <td>crime, drama</td>\n",
       "      <td>the early life and career of vito corleone in ...</td>\n",
       "      <td>francis ford coppola</td>\n",
       "      <td>al pacino</td>\n",
       "      <td>robert de niro</td>\n",
       "      <td>robert duvall</td>\n",
       "      <td>diane keaton</td>\n",
       "    </tr>\n",
       "    <tr>\n",
       "      <th>4</th>\n",
       "      <td>12 Angry Men</td>\n",
       "      <td>crime, drama</td>\n",
       "      <td>a jury holdout attempts to prevent a miscarria...</td>\n",
       "      <td>sidney lumet</td>\n",
       "      <td>henry fonda</td>\n",
       "      <td>lee j. cobb</td>\n",
       "      <td>martin balsam</td>\n",
       "      <td>john fiedler</td>\n",
       "    </tr>\n",
       "  </tbody>\n",
       "</table>\n",
       "</div>"
      ],
      "text/plain": [
       "               Series_Title                 Genre  \\\n",
       "0  The Shawshank Redemption                 drama   \n",
       "1             The Godfather          crime, drama   \n",
       "2           The Dark Knight  action, crime, drama   \n",
       "3    The Godfather: Part II          crime, drama   \n",
       "4              12 Angry Men          crime, drama   \n",
       "\n",
       "                                            Overview              Director  \\\n",
       "0  two imprisoned men bond over a number of years...        frank darabont   \n",
       "1  an organized crime dynasty's aging patriarch t...  francis ford coppola   \n",
       "2  when the menace known as the joker wreaks havo...     christopher nolan   \n",
       "3  the early life and career of vito corleone in ...  francis ford coppola   \n",
       "4  a jury holdout attempts to prevent a miscarria...          sidney lumet   \n",
       "\n",
       "            Star1           Star2          Star3           Star4  \n",
       "0     tim robbins  morgan freeman     bob gunton  william sadler  \n",
       "1   marlon brando       al pacino     james caan    diane keaton  \n",
       "2  christian bale    heath ledger  aaron eckhart   michael caine  \n",
       "3       al pacino  robert de niro  robert duvall    diane keaton  \n",
       "4     henry fonda     lee j. cobb  martin balsam    john fiedler  "
      ]
     },
     "execution_count": 8,
     "metadata": {},
     "output_type": "execute_result"
    }
   ],
   "source": [
    "movies.head()"
   ]
  },
  {
   "cell_type": "code",
   "execution_count": 9,
   "id": "2f348c52",
   "metadata": {},
   "outputs": [],
   "source": [
    "def remove_spaces(col):\n",
    "    return col.str.replace(\" \",\"\")\n",
    "\n",
    "movies.Director = remove_spaces(movies.Director)\n",
    "movies.Star1 = remove_spaces(movies.Star1)\n",
    "movies.Star2 = remove_spaces(movies.Star2)\n",
    "movies.Star3 = remove_spaces(movies.Star3)\n",
    "movies.Star4 = remove_spaces(movies.Star4)"
   ]
  },
  {
   "cell_type": "code",
   "execution_count": 10,
   "id": "8ea07d23",
   "metadata": {},
   "outputs": [
    {
     "data": {
      "text/html": [
       "<div>\n",
       "<style scoped>\n",
       "    .dataframe tbody tr th:only-of-type {\n",
       "        vertical-align: middle;\n",
       "    }\n",
       "\n",
       "    .dataframe tbody tr th {\n",
       "        vertical-align: top;\n",
       "    }\n",
       "\n",
       "    .dataframe thead th {\n",
       "        text-align: right;\n",
       "    }\n",
       "</style>\n",
       "<table border=\"1\" class=\"dataframe\">\n",
       "  <thead>\n",
       "    <tr style=\"text-align: right;\">\n",
       "      <th></th>\n",
       "      <th>Series_Title</th>\n",
       "      <th>Genre</th>\n",
       "      <th>Overview</th>\n",
       "      <th>Director</th>\n",
       "      <th>Star1</th>\n",
       "      <th>Star2</th>\n",
       "      <th>Star3</th>\n",
       "      <th>Star4</th>\n",
       "    </tr>\n",
       "  </thead>\n",
       "  <tbody>\n",
       "    <tr>\n",
       "      <th>0</th>\n",
       "      <td>The Shawshank Redemption</td>\n",
       "      <td>drama</td>\n",
       "      <td>two imprisoned men bond over a number of years...</td>\n",
       "      <td>frankdarabont</td>\n",
       "      <td>timrobbins</td>\n",
       "      <td>morganfreeman</td>\n",
       "      <td>bobgunton</td>\n",
       "      <td>williamsadler</td>\n",
       "    </tr>\n",
       "    <tr>\n",
       "      <th>1</th>\n",
       "      <td>The Godfather</td>\n",
       "      <td>crime, drama</td>\n",
       "      <td>an organized crime dynasty's aging patriarch t...</td>\n",
       "      <td>francisfordcoppola</td>\n",
       "      <td>marlonbrando</td>\n",
       "      <td>alpacino</td>\n",
       "      <td>jamescaan</td>\n",
       "      <td>dianekeaton</td>\n",
       "    </tr>\n",
       "    <tr>\n",
       "      <th>2</th>\n",
       "      <td>The Dark Knight</td>\n",
       "      <td>action, crime, drama</td>\n",
       "      <td>when the menace known as the joker wreaks havo...</td>\n",
       "      <td>christophernolan</td>\n",
       "      <td>christianbale</td>\n",
       "      <td>heathledger</td>\n",
       "      <td>aaroneckhart</td>\n",
       "      <td>michaelcaine</td>\n",
       "    </tr>\n",
       "    <tr>\n",
       "      <th>3</th>\n",
       "      <td>The Godfather: Part II</td>\n",
       "      <td>crime, drama</td>\n",
       "      <td>the early life and career of vito corleone in ...</td>\n",
       "      <td>francisfordcoppola</td>\n",
       "      <td>alpacino</td>\n",
       "      <td>robertdeniro</td>\n",
       "      <td>robertduvall</td>\n",
       "      <td>dianekeaton</td>\n",
       "    </tr>\n",
       "    <tr>\n",
       "      <th>4</th>\n",
       "      <td>12 Angry Men</td>\n",
       "      <td>crime, drama</td>\n",
       "      <td>a jury holdout attempts to prevent a miscarria...</td>\n",
       "      <td>sidneylumet</td>\n",
       "      <td>henryfonda</td>\n",
       "      <td>leej.cobb</td>\n",
       "      <td>martinbalsam</td>\n",
       "      <td>johnfiedler</td>\n",
       "    </tr>\n",
       "  </tbody>\n",
       "</table>\n",
       "</div>"
      ],
      "text/plain": [
       "               Series_Title                 Genre  \\\n",
       "0  The Shawshank Redemption                 drama   \n",
       "1             The Godfather          crime, drama   \n",
       "2           The Dark Knight  action, crime, drama   \n",
       "3    The Godfather: Part II          crime, drama   \n",
       "4              12 Angry Men          crime, drama   \n",
       "\n",
       "                                            Overview            Director  \\\n",
       "0  two imprisoned men bond over a number of years...       frankdarabont   \n",
       "1  an organized crime dynasty's aging patriarch t...  francisfordcoppola   \n",
       "2  when the menace known as the joker wreaks havo...    christophernolan   \n",
       "3  the early life and career of vito corleone in ...  francisfordcoppola   \n",
       "4  a jury holdout attempts to prevent a miscarria...         sidneylumet   \n",
       "\n",
       "           Star1          Star2         Star3          Star4  \n",
       "0     timrobbins  morganfreeman     bobgunton  williamsadler  \n",
       "1   marlonbrando       alpacino     jamescaan    dianekeaton  \n",
       "2  christianbale    heathledger  aaroneckhart   michaelcaine  \n",
       "3       alpacino   robertdeniro  robertduvall    dianekeaton  \n",
       "4     henryfonda      leej.cobb  martinbalsam    johnfiedler  "
      ]
     },
     "execution_count": 10,
     "metadata": {},
     "output_type": "execute_result"
    }
   ],
   "source": [
    "movies.head()"
   ]
  },
  {
   "cell_type": "code",
   "execution_count": 11,
   "id": "62bfa9c1",
   "metadata": {},
   "outputs": [],
   "source": [
    "movies.Overview = movies.Overview.str.split(\" \")"
   ]
  },
  {
   "cell_type": "code",
   "execution_count": 12,
   "id": "bc046f95",
   "metadata": {},
   "outputs": [
    {
     "data": {
      "text/plain": [
       "0      [two, imprisoned, men, bond, over, a, number, ...\n",
       "1      [an, organized, crime, dynasty's, aging, patri...\n",
       "2      [when, the, menace, known, as, the, joker, wre...\n",
       "3      [the, early, life, and, career, of, vito, corl...\n",
       "4      [a, jury, holdout, attempts, to, prevent, a, m...\n",
       "                             ...                        \n",
       "995    [a, young, new, york, socialite, becomes, inte...\n",
       "996    [sprawling, epic, covering, the, life, of, a, ...\n",
       "997    [in, hawaii, in, 1941,, a, private, is, cruell...\n",
       "998    [several, survivors, of, a, torpedoed, merchan...\n",
       "999    [a, man, in, london, tries, to, help, a, count...\n",
       "Name: Overview, Length: 1000, dtype: object"
      ]
     },
     "execution_count": 12,
     "metadata": {},
     "output_type": "execute_result"
    }
   ],
   "source": [
    "movies.Overview"
   ]
  },
  {
   "cell_type": "code",
   "execution_count": 13,
   "id": "a5d015b1",
   "metadata": {},
   "outputs": [
    {
     "data": {
      "text/html": [
       "<div>\n",
       "<style scoped>\n",
       "    .dataframe tbody tr th:only-of-type {\n",
       "        vertical-align: middle;\n",
       "    }\n",
       "\n",
       "    .dataframe tbody tr th {\n",
       "        vertical-align: top;\n",
       "    }\n",
       "\n",
       "    .dataframe thead th {\n",
       "        text-align: right;\n",
       "    }\n",
       "</style>\n",
       "<table border=\"1\" class=\"dataframe\">\n",
       "  <thead>\n",
       "    <tr style=\"text-align: right;\">\n",
       "      <th></th>\n",
       "      <th>Series_Title</th>\n",
       "      <th>Genre</th>\n",
       "      <th>Overview</th>\n",
       "      <th>Director</th>\n",
       "      <th>Star1</th>\n",
       "      <th>Star2</th>\n",
       "      <th>Star3</th>\n",
       "      <th>Star4</th>\n",
       "    </tr>\n",
       "  </thead>\n",
       "  <tbody>\n",
       "    <tr>\n",
       "      <th>0</th>\n",
       "      <td>The Shawshank Redemption</td>\n",
       "      <td>drama</td>\n",
       "      <td>[two, imprisoned, men, bond, over, a, number, ...</td>\n",
       "      <td>frankdarabont</td>\n",
       "      <td>timrobbins</td>\n",
       "      <td>morganfreeman</td>\n",
       "      <td>bobgunton</td>\n",
       "      <td>williamsadler</td>\n",
       "    </tr>\n",
       "    <tr>\n",
       "      <th>1</th>\n",
       "      <td>The Godfather</td>\n",
       "      <td>crime, drama</td>\n",
       "      <td>[an, organized, crime, dynasty's, aging, patri...</td>\n",
       "      <td>francisfordcoppola</td>\n",
       "      <td>marlonbrando</td>\n",
       "      <td>alpacino</td>\n",
       "      <td>jamescaan</td>\n",
       "      <td>dianekeaton</td>\n",
       "    </tr>\n",
       "    <tr>\n",
       "      <th>2</th>\n",
       "      <td>The Dark Knight</td>\n",
       "      <td>action, crime, drama</td>\n",
       "      <td>[when, the, menace, known, as, the, joker, wre...</td>\n",
       "      <td>christophernolan</td>\n",
       "      <td>christianbale</td>\n",
       "      <td>heathledger</td>\n",
       "      <td>aaroneckhart</td>\n",
       "      <td>michaelcaine</td>\n",
       "    </tr>\n",
       "    <tr>\n",
       "      <th>3</th>\n",
       "      <td>The Godfather: Part II</td>\n",
       "      <td>crime, drama</td>\n",
       "      <td>[the, early, life, and, career, of, vito, corl...</td>\n",
       "      <td>francisfordcoppola</td>\n",
       "      <td>alpacino</td>\n",
       "      <td>robertdeniro</td>\n",
       "      <td>robertduvall</td>\n",
       "      <td>dianekeaton</td>\n",
       "    </tr>\n",
       "    <tr>\n",
       "      <th>4</th>\n",
       "      <td>12 Angry Men</td>\n",
       "      <td>crime, drama</td>\n",
       "      <td>[a, jury, holdout, attempts, to, prevent, a, m...</td>\n",
       "      <td>sidneylumet</td>\n",
       "      <td>henryfonda</td>\n",
       "      <td>leej.cobb</td>\n",
       "      <td>martinbalsam</td>\n",
       "      <td>johnfiedler</td>\n",
       "    </tr>\n",
       "  </tbody>\n",
       "</table>\n",
       "</div>"
      ],
      "text/plain": [
       "               Series_Title                 Genre  \\\n",
       "0  The Shawshank Redemption                 drama   \n",
       "1             The Godfather          crime, drama   \n",
       "2           The Dark Knight  action, crime, drama   \n",
       "3    The Godfather: Part II          crime, drama   \n",
       "4              12 Angry Men          crime, drama   \n",
       "\n",
       "                                            Overview            Director  \\\n",
       "0  [two, imprisoned, men, bond, over, a, number, ...       frankdarabont   \n",
       "1  [an, organized, crime, dynasty's, aging, patri...  francisfordcoppola   \n",
       "2  [when, the, menace, known, as, the, joker, wre...    christophernolan   \n",
       "3  [the, early, life, and, career, of, vito, corl...  francisfordcoppola   \n",
       "4  [a, jury, holdout, attempts, to, prevent, a, m...         sidneylumet   \n",
       "\n",
       "           Star1          Star2         Star3          Star4  \n",
       "0     timrobbins  morganfreeman     bobgunton  williamsadler  \n",
       "1   marlonbrando       alpacino     jamescaan    dianekeaton  \n",
       "2  christianbale    heathledger  aaroneckhart   michaelcaine  \n",
       "3       alpacino   robertdeniro  robertduvall    dianekeaton  \n",
       "4     henryfonda      leej.cobb  martinbalsam    johnfiedler  "
      ]
     },
     "execution_count": 13,
     "metadata": {},
     "output_type": "execute_result"
    }
   ],
   "source": [
    "movies.head()"
   ]
  },
  {
   "cell_type": "code",
   "execution_count": 14,
   "id": "5584f070",
   "metadata": {},
   "outputs": [],
   "source": [
    "movies['Director'] = movies['Director'].apply(lambda x: [x])\n",
    "movies['Star1'] = movies['Star1'].apply(lambda x: [x])\n",
    "movies['Star2'] = movies['Star2'].apply(lambda x: [x])\n",
    "movies['Star3'] = movies['Star3'].apply(lambda x: [x])\n",
    "movies['Star4'] = movies['Star4'].apply(lambda x: [x])\n",
    "movies['Genre'] = movies['Genre'].apply(lambda x: [x])"
   ]
  },
  {
   "cell_type": "code",
   "execution_count": 15,
   "id": "94066fe2",
   "metadata": {},
   "outputs": [
    {
     "data": {
      "text/html": [
       "<div>\n",
       "<style scoped>\n",
       "    .dataframe tbody tr th:only-of-type {\n",
       "        vertical-align: middle;\n",
       "    }\n",
       "\n",
       "    .dataframe tbody tr th {\n",
       "        vertical-align: top;\n",
       "    }\n",
       "\n",
       "    .dataframe thead th {\n",
       "        text-align: right;\n",
       "    }\n",
       "</style>\n",
       "<table border=\"1\" class=\"dataframe\">\n",
       "  <thead>\n",
       "    <tr style=\"text-align: right;\">\n",
       "      <th></th>\n",
       "      <th>Series_Title</th>\n",
       "      <th>Genre</th>\n",
       "      <th>Overview</th>\n",
       "      <th>Director</th>\n",
       "      <th>Star1</th>\n",
       "      <th>Star2</th>\n",
       "      <th>Star3</th>\n",
       "      <th>Star4</th>\n",
       "    </tr>\n",
       "  </thead>\n",
       "  <tbody>\n",
       "    <tr>\n",
       "      <th>0</th>\n",
       "      <td>The Shawshank Redemption</td>\n",
       "      <td>[drama]</td>\n",
       "      <td>[two, imprisoned, men, bond, over, a, number, ...</td>\n",
       "      <td>[frankdarabont]</td>\n",
       "      <td>[timrobbins]</td>\n",
       "      <td>[morganfreeman]</td>\n",
       "      <td>[bobgunton]</td>\n",
       "      <td>[williamsadler]</td>\n",
       "    </tr>\n",
       "    <tr>\n",
       "      <th>1</th>\n",
       "      <td>The Godfather</td>\n",
       "      <td>[crime, drama]</td>\n",
       "      <td>[an, organized, crime, dynasty's, aging, patri...</td>\n",
       "      <td>[francisfordcoppola]</td>\n",
       "      <td>[marlonbrando]</td>\n",
       "      <td>[alpacino]</td>\n",
       "      <td>[jamescaan]</td>\n",
       "      <td>[dianekeaton]</td>\n",
       "    </tr>\n",
       "    <tr>\n",
       "      <th>2</th>\n",
       "      <td>The Dark Knight</td>\n",
       "      <td>[action, crime, drama]</td>\n",
       "      <td>[when, the, menace, known, as, the, joker, wre...</td>\n",
       "      <td>[christophernolan]</td>\n",
       "      <td>[christianbale]</td>\n",
       "      <td>[heathledger]</td>\n",
       "      <td>[aaroneckhart]</td>\n",
       "      <td>[michaelcaine]</td>\n",
       "    </tr>\n",
       "    <tr>\n",
       "      <th>3</th>\n",
       "      <td>The Godfather: Part II</td>\n",
       "      <td>[crime, drama]</td>\n",
       "      <td>[the, early, life, and, career, of, vito, corl...</td>\n",
       "      <td>[francisfordcoppola]</td>\n",
       "      <td>[alpacino]</td>\n",
       "      <td>[robertdeniro]</td>\n",
       "      <td>[robertduvall]</td>\n",
       "      <td>[dianekeaton]</td>\n",
       "    </tr>\n",
       "    <tr>\n",
       "      <th>4</th>\n",
       "      <td>12 Angry Men</td>\n",
       "      <td>[crime, drama]</td>\n",
       "      <td>[a, jury, holdout, attempts, to, prevent, a, m...</td>\n",
       "      <td>[sidneylumet]</td>\n",
       "      <td>[henryfonda]</td>\n",
       "      <td>[leej.cobb]</td>\n",
       "      <td>[martinbalsam]</td>\n",
       "      <td>[johnfiedler]</td>\n",
       "    </tr>\n",
       "  </tbody>\n",
       "</table>\n",
       "</div>"
      ],
      "text/plain": [
       "               Series_Title                   Genre  \\\n",
       "0  The Shawshank Redemption                 [drama]   \n",
       "1             The Godfather          [crime, drama]   \n",
       "2           The Dark Knight  [action, crime, drama]   \n",
       "3    The Godfather: Part II          [crime, drama]   \n",
       "4              12 Angry Men          [crime, drama]   \n",
       "\n",
       "                                            Overview              Director  \\\n",
       "0  [two, imprisoned, men, bond, over, a, number, ...       [frankdarabont]   \n",
       "1  [an, organized, crime, dynasty's, aging, patri...  [francisfordcoppola]   \n",
       "2  [when, the, menace, known, as, the, joker, wre...    [christophernolan]   \n",
       "3  [the, early, life, and, career, of, vito, corl...  [francisfordcoppola]   \n",
       "4  [a, jury, holdout, attempts, to, prevent, a, m...         [sidneylumet]   \n",
       "\n",
       "             Star1            Star2           Star3            Star4  \n",
       "0     [timrobbins]  [morganfreeman]     [bobgunton]  [williamsadler]  \n",
       "1   [marlonbrando]       [alpacino]     [jamescaan]    [dianekeaton]  \n",
       "2  [christianbale]    [heathledger]  [aaroneckhart]   [michaelcaine]  \n",
       "3       [alpacino]   [robertdeniro]  [robertduvall]    [dianekeaton]  \n",
       "4     [henryfonda]      [leej.cobb]  [martinbalsam]    [johnfiedler]  "
      ]
     },
     "execution_count": 15,
     "metadata": {},
     "output_type": "execute_result"
    }
   ],
   "source": [
    "movies.head()"
   ]
  },
  {
   "cell_type": "code",
   "execution_count": 16,
   "id": "0dee6506",
   "metadata": {},
   "outputs": [
    {
     "data": {
      "text/html": [
       "<div>\n",
       "<style scoped>\n",
       "    .dataframe tbody tr th:only-of-type {\n",
       "        vertical-align: middle;\n",
       "    }\n",
       "\n",
       "    .dataframe tbody tr th {\n",
       "        vertical-align: top;\n",
       "    }\n",
       "\n",
       "    .dataframe thead th {\n",
       "        text-align: right;\n",
       "    }\n",
       "</style>\n",
       "<table border=\"1\" class=\"dataframe\">\n",
       "  <thead>\n",
       "    <tr style=\"text-align: right;\">\n",
       "      <th></th>\n",
       "      <th>Series_Title</th>\n",
       "      <th>Genre</th>\n",
       "      <th>Overview</th>\n",
       "      <th>Director</th>\n",
       "      <th>Star1</th>\n",
       "      <th>Star2</th>\n",
       "      <th>Star3</th>\n",
       "      <th>Star4</th>\n",
       "      <th>Tags</th>\n",
       "    </tr>\n",
       "  </thead>\n",
       "  <tbody>\n",
       "    <tr>\n",
       "      <th>0</th>\n",
       "      <td>The Shawshank Redemption</td>\n",
       "      <td>[drama]</td>\n",
       "      <td>[two, imprisoned, men, bond, over, a, number, ...</td>\n",
       "      <td>[frankdarabont]</td>\n",
       "      <td>[timrobbins]</td>\n",
       "      <td>[morganfreeman]</td>\n",
       "      <td>[bobgunton]</td>\n",
       "      <td>[williamsadler]</td>\n",
       "      <td>[drama, two, imprisoned, men, bond, over, a, n...</td>\n",
       "    </tr>\n",
       "    <tr>\n",
       "      <th>1</th>\n",
       "      <td>The Godfather</td>\n",
       "      <td>[crime, drama]</td>\n",
       "      <td>[an, organized, crime, dynasty's, aging, patri...</td>\n",
       "      <td>[francisfordcoppola]</td>\n",
       "      <td>[marlonbrando]</td>\n",
       "      <td>[alpacino]</td>\n",
       "      <td>[jamescaan]</td>\n",
       "      <td>[dianekeaton]</td>\n",
       "      <td>[crime, drama, an, organized, crime, dynasty's...</td>\n",
       "    </tr>\n",
       "    <tr>\n",
       "      <th>2</th>\n",
       "      <td>The Dark Knight</td>\n",
       "      <td>[action, crime, drama]</td>\n",
       "      <td>[when, the, menace, known, as, the, joker, wre...</td>\n",
       "      <td>[christophernolan]</td>\n",
       "      <td>[christianbale]</td>\n",
       "      <td>[heathledger]</td>\n",
       "      <td>[aaroneckhart]</td>\n",
       "      <td>[michaelcaine]</td>\n",
       "      <td>[action, crime, drama, when, the, menace, know...</td>\n",
       "    </tr>\n",
       "    <tr>\n",
       "      <th>3</th>\n",
       "      <td>The Godfather: Part II</td>\n",
       "      <td>[crime, drama]</td>\n",
       "      <td>[the, early, life, and, career, of, vito, corl...</td>\n",
       "      <td>[francisfordcoppola]</td>\n",
       "      <td>[alpacino]</td>\n",
       "      <td>[robertdeniro]</td>\n",
       "      <td>[robertduvall]</td>\n",
       "      <td>[dianekeaton]</td>\n",
       "      <td>[crime, drama, the, early, life, and, career, ...</td>\n",
       "    </tr>\n",
       "    <tr>\n",
       "      <th>4</th>\n",
       "      <td>12 Angry Men</td>\n",
       "      <td>[crime, drama]</td>\n",
       "      <td>[a, jury, holdout, attempts, to, prevent, a, m...</td>\n",
       "      <td>[sidneylumet]</td>\n",
       "      <td>[henryfonda]</td>\n",
       "      <td>[leej.cobb]</td>\n",
       "      <td>[martinbalsam]</td>\n",
       "      <td>[johnfiedler]</td>\n",
       "      <td>[crime, drama, a, jury, holdout, attempts, to,...</td>\n",
       "    </tr>\n",
       "  </tbody>\n",
       "</table>\n",
       "</div>"
      ],
      "text/plain": [
       "               Series_Title                   Genre  \\\n",
       "0  The Shawshank Redemption                 [drama]   \n",
       "1             The Godfather          [crime, drama]   \n",
       "2           The Dark Knight  [action, crime, drama]   \n",
       "3    The Godfather: Part II          [crime, drama]   \n",
       "4              12 Angry Men          [crime, drama]   \n",
       "\n",
       "                                            Overview              Director  \\\n",
       "0  [two, imprisoned, men, bond, over, a, number, ...       [frankdarabont]   \n",
       "1  [an, organized, crime, dynasty's, aging, patri...  [francisfordcoppola]   \n",
       "2  [when, the, menace, known, as, the, joker, wre...    [christophernolan]   \n",
       "3  [the, early, life, and, career, of, vito, corl...  [francisfordcoppola]   \n",
       "4  [a, jury, holdout, attempts, to, prevent, a, m...         [sidneylumet]   \n",
       "\n",
       "             Star1            Star2           Star3            Star4  \\\n",
       "0     [timrobbins]  [morganfreeman]     [bobgunton]  [williamsadler]   \n",
       "1   [marlonbrando]       [alpacino]     [jamescaan]    [dianekeaton]   \n",
       "2  [christianbale]    [heathledger]  [aaroneckhart]   [michaelcaine]   \n",
       "3       [alpacino]   [robertdeniro]  [robertduvall]    [dianekeaton]   \n",
       "4     [henryfonda]      [leej.cobb]  [martinbalsam]    [johnfiedler]   \n",
       "\n",
       "                                                Tags  \n",
       "0  [drama, two, imprisoned, men, bond, over, a, n...  \n",
       "1  [crime, drama, an, organized, crime, dynasty's...  \n",
       "2  [action, crime, drama, when, the, menace, know...  \n",
       "3  [crime, drama, the, early, life, and, career, ...  \n",
       "4  [crime, drama, a, jury, holdout, attempts, to,...  "
      ]
     },
     "execution_count": 16,
     "metadata": {},
     "output_type": "execute_result"
    }
   ],
   "source": [
    "movies['Tags'] = movies['Genre']+movies['Overview']+movies['Director']+movies['Star1']+movies['Star2']+movies['Star3']+movies['Star4']\n",
    "movies.head()"
   ]
  },
  {
   "cell_type": "code",
   "execution_count": 17,
   "id": "ab80f501",
   "metadata": {
    "scrolled": true
   },
   "outputs": [],
   "source": [
    "movies.drop(columns=['Overview','Director','Star1','Star2','Star3','Star4','Genre'], inplace=True)"
   ]
  },
  {
   "cell_type": "code",
   "execution_count": 18,
   "id": "676e55d5",
   "metadata": {},
   "outputs": [
    {
     "data": {
      "text/html": [
       "<div>\n",
       "<style scoped>\n",
       "    .dataframe tbody tr th:only-of-type {\n",
       "        vertical-align: middle;\n",
       "    }\n",
       "\n",
       "    .dataframe tbody tr th {\n",
       "        vertical-align: top;\n",
       "    }\n",
       "\n",
       "    .dataframe thead th {\n",
       "        text-align: right;\n",
       "    }\n",
       "</style>\n",
       "<table border=\"1\" class=\"dataframe\">\n",
       "  <thead>\n",
       "    <tr style=\"text-align: right;\">\n",
       "      <th></th>\n",
       "      <th>Series_Title</th>\n",
       "      <th>Tags</th>\n",
       "    </tr>\n",
       "  </thead>\n",
       "  <tbody>\n",
       "    <tr>\n",
       "      <th>0</th>\n",
       "      <td>The Shawshank Redemption</td>\n",
       "      <td>[drama, two, imprisoned, men, bond, over, a, n...</td>\n",
       "    </tr>\n",
       "    <tr>\n",
       "      <th>1</th>\n",
       "      <td>The Godfather</td>\n",
       "      <td>[crime, drama, an, organized, crime, dynasty's...</td>\n",
       "    </tr>\n",
       "    <tr>\n",
       "      <th>2</th>\n",
       "      <td>The Dark Knight</td>\n",
       "      <td>[action, crime, drama, when, the, menace, know...</td>\n",
       "    </tr>\n",
       "    <tr>\n",
       "      <th>3</th>\n",
       "      <td>The Godfather: Part II</td>\n",
       "      <td>[crime, drama, the, early, life, and, career, ...</td>\n",
       "    </tr>\n",
       "    <tr>\n",
       "      <th>4</th>\n",
       "      <td>12 Angry Men</td>\n",
       "      <td>[crime, drama, a, jury, holdout, attempts, to,...</td>\n",
       "    </tr>\n",
       "  </tbody>\n",
       "</table>\n",
       "</div>"
      ],
      "text/plain": [
       "               Series_Title                                               Tags\n",
       "0  The Shawshank Redemption  [drama, two, imprisoned, men, bond, over, a, n...\n",
       "1             The Godfather  [crime, drama, an, organized, crime, dynasty's...\n",
       "2           The Dark Knight  [action, crime, drama, when, the, menace, know...\n",
       "3    The Godfather: Part II  [crime, drama, the, early, life, and, career, ...\n",
       "4              12 Angry Men  [crime, drama, a, jury, holdout, attempts, to,..."
      ]
     },
     "execution_count": 18,
     "metadata": {},
     "output_type": "execute_result"
    }
   ],
   "source": [
    "movies.head()"
   ]
  },
  {
   "cell_type": "code",
   "execution_count": 19,
   "id": "579fe201",
   "metadata": {},
   "outputs": [
    {
     "data": {
      "text/plain": [
       "['drama',\n",
       " 'two',\n",
       " 'imprisoned',\n",
       " 'men',\n",
       " 'bond',\n",
       " 'over',\n",
       " 'a',\n",
       " 'number',\n",
       " 'of',\n",
       " 'years,',\n",
       " 'finding',\n",
       " 'solace',\n",
       " 'and',\n",
       " 'eventual',\n",
       " 'redemption',\n",
       " 'through',\n",
       " 'acts',\n",
       " 'of',\n",
       " 'common',\n",
       " 'decency.',\n",
       " 'frankdarabont',\n",
       " 'timrobbins',\n",
       " 'morganfreeman',\n",
       " 'bobgunton',\n",
       " 'williamsadler']"
      ]
     },
     "execution_count": 19,
     "metadata": {},
     "output_type": "execute_result"
    }
   ],
   "source": [
    "movies['Tags'][0]"
   ]
  },
  {
   "cell_type": "code",
   "execution_count": 20,
   "id": "54adc36f",
   "metadata": {},
   "outputs": [],
   "source": [
    "movies['Tags'] = movies['Tags'].apply(lambda x: \" \".join(x))"
   ]
  },
  {
   "cell_type": "code",
   "execution_count": 21,
   "id": "463e6187",
   "metadata": {},
   "outputs": [
    {
     "data": {
      "text/html": [
       "<div>\n",
       "<style scoped>\n",
       "    .dataframe tbody tr th:only-of-type {\n",
       "        vertical-align: middle;\n",
       "    }\n",
       "\n",
       "    .dataframe tbody tr th {\n",
       "        vertical-align: top;\n",
       "    }\n",
       "\n",
       "    .dataframe thead th {\n",
       "        text-align: right;\n",
       "    }\n",
       "</style>\n",
       "<table border=\"1\" class=\"dataframe\">\n",
       "  <thead>\n",
       "    <tr style=\"text-align: right;\">\n",
       "      <th></th>\n",
       "      <th>Series_Title</th>\n",
       "      <th>Tags</th>\n",
       "    </tr>\n",
       "  </thead>\n",
       "  <tbody>\n",
       "    <tr>\n",
       "      <th>0</th>\n",
       "      <td>The Shawshank Redemption</td>\n",
       "      <td>drama two imprisoned men bond over a number of...</td>\n",
       "    </tr>\n",
       "    <tr>\n",
       "      <th>1</th>\n",
       "      <td>The Godfather</td>\n",
       "      <td>crime, drama an organized crime dynasty's agin...</td>\n",
       "    </tr>\n",
       "    <tr>\n",
       "      <th>2</th>\n",
       "      <td>The Dark Knight</td>\n",
       "      <td>action, crime, drama when the menace known as ...</td>\n",
       "    </tr>\n",
       "    <tr>\n",
       "      <th>3</th>\n",
       "      <td>The Godfather: Part II</td>\n",
       "      <td>crime, drama the early life and career of vito...</td>\n",
       "    </tr>\n",
       "    <tr>\n",
       "      <th>4</th>\n",
       "      <td>12 Angry Men</td>\n",
       "      <td>crime, drama a jury holdout attempts to preven...</td>\n",
       "    </tr>\n",
       "  </tbody>\n",
       "</table>\n",
       "</div>"
      ],
      "text/plain": [
       "               Series_Title                                               Tags\n",
       "0  The Shawshank Redemption  drama two imprisoned men bond over a number of...\n",
       "1             The Godfather  crime, drama an organized crime dynasty's agin...\n",
       "2           The Dark Knight  action, crime, drama when the menace known as ...\n",
       "3    The Godfather: Part II  crime, drama the early life and career of vito...\n",
       "4              12 Angry Men  crime, drama a jury holdout attempts to preven..."
      ]
     },
     "execution_count": 21,
     "metadata": {},
     "output_type": "execute_result"
    }
   ],
   "source": [
    "movies.head()"
   ]
  },
  {
   "cell_type": "code",
   "execution_count": 22,
   "id": "8d165426",
   "metadata": {},
   "outputs": [],
   "source": [
    "import nltk\n",
    "from nltk.stem import PorterStemmer"
   ]
  },
  {
   "cell_type": "code",
   "execution_count": 23,
   "id": "45e68b7c",
   "metadata": {},
   "outputs": [],
   "source": [
    "ps = PorterStemmer()"
   ]
  },
  {
   "cell_type": "code",
   "execution_count": 24,
   "id": "f6d25d9a",
   "metadata": {},
   "outputs": [],
   "source": [
    "def stems(text):\n",
    "    T = []\n",
    "    \n",
    "    for i in text.split():\n",
    "        T.append(ps.stem(i))\n",
    "    \n",
    "    return \" \".join(T)"
   ]
  },
  {
   "cell_type": "code",
   "execution_count": 25,
   "id": "1330e171",
   "metadata": {},
   "outputs": [],
   "source": [
    "movies['Tags'] = movies['Tags'].apply(stems)"
   ]
  },
  {
   "cell_type": "code",
   "execution_count": 26,
   "id": "6979d562",
   "metadata": {},
   "outputs": [
    {
     "data": {
      "text/plain": [
       "'drama two imprison men bond over a number of years, find solac and eventu redempt through act of common decency. frankdarabont timrobbin morganfreeman bobgunton williamsadl'"
      ]
     },
     "execution_count": 26,
     "metadata": {},
     "output_type": "execute_result"
    }
   ],
   "source": [
    "movies['Tags'][0]"
   ]
  },
  {
   "cell_type": "code",
   "execution_count": 27,
   "id": "629cc9e1",
   "metadata": {},
   "outputs": [],
   "source": [
    "from sklearn.feature_extraction.text import CountVectorizer\n",
    "cv = CountVectorizer(max_features=4000,stop_words='english')"
   ]
  },
  {
   "cell_type": "code",
   "execution_count": 28,
   "id": "b2ac252d",
   "metadata": {},
   "outputs": [],
   "source": [
    "vector = cv.fit_transform(movies['Tags']).toarray()"
   ]
  },
  {
   "cell_type": "code",
   "execution_count": 29,
   "id": "c6bcca86",
   "metadata": {},
   "outputs": [
    {
     "data": {
      "text/plain": [
       "(1000, 4000)"
      ]
     },
     "execution_count": 29,
     "metadata": {},
     "output_type": "execute_result"
    }
   ],
   "source": [
    "vector.shape"
   ]
  },
  {
   "cell_type": "code",
   "execution_count": 30,
   "id": "5b74ec0f",
   "metadata": {
    "scrolled": false
   },
   "outputs": [
    {
     "data": {
      "text/plain": [
       "array(['000', '007', '10', ..., 'émilevallé', 'érictoledano',\n",
       "       'ömerfaruksorak'], dtype=object)"
      ]
     },
     "execution_count": 30,
     "metadata": {},
     "output_type": "execute_result"
    }
   ],
   "source": [
    "cv.get_feature_names_out()"
   ]
  },
  {
   "cell_type": "code",
   "execution_count": 31,
   "id": "b614843a",
   "metadata": {},
   "outputs": [],
   "source": [
    "from sklearn.metrics.pairwise import cosine_similarity\n",
    "cs = cosine_similarity(vector)"
   ]
  },
  {
   "cell_type": "code",
   "execution_count": 32,
   "id": "5f320984",
   "metadata": {},
   "outputs": [
    {
     "data": {
      "text/plain": [
       "(1000, 1000)"
      ]
     },
     "execution_count": 32,
     "metadata": {},
     "output_type": "execute_result"
    }
   ],
   "source": [
    "cs.shape"
   ]
  },
  {
   "cell_type": "code",
   "execution_count": 34,
   "id": "c582f43b",
   "metadata": {},
   "outputs": [],
   "source": [
    "def recommend(movie):\n",
    "    index = movies[movies['Series_Title'] == movie].index[0]\n",
    "    distances = sorted(list(enumerate(cs[index])),reverse=True,key = lambda x: x[1])\n",
    "    for i in distances[1:6]:\n",
    "        print(movies.iloc[i[0]]['Series_Title'])"
   ]
  },
  {
   "cell_type": "code",
   "execution_count": 36,
   "id": "f09c0865",
   "metadata": {},
   "outputs": [
    {
     "name": "stdout",
     "output_type": "stream",
     "text": [
      "Batman Begins\n",
      "The Dark Knight Rises\n",
      "The Godfather: Part III\n",
      "Dip huet seung hung\n",
      "Scarface: The Shame of the Nation\n"
     ]
    }
   ],
   "source": [
    "recommend('The Dark Knight')"
   ]
  }
 ],
 "metadata": {
  "kernelspec": {
   "display_name": "Python 3 (ipykernel)",
   "language": "python",
   "name": "python3"
  },
  "language_info": {
   "codemirror_mode": {
    "name": "ipython",
    "version": 3
   },
   "file_extension": ".py",
   "mimetype": "text/x-python",
   "name": "python",
   "nbconvert_exporter": "python",
   "pygments_lexer": "ipython3",
   "version": "3.11.4"
  }
 },
 "nbformat": 4,
 "nbformat_minor": 5
}
